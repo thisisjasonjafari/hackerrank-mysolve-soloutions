{
 "cells": [
  {
   "cell_type": "markdown",
   "metadata": {},
   "source": [
    "<a href=\"https://boby.cloud/python-with-statement/\">\n",
    "    https://boby.cloud/python-with-statement/\n",
    "</a>"
   ]
  },
  {
   "cell_type": "markdown",
   "metadata": {},
   "source": [
    "عبارت with در پایتون"
   ]
  },
  {
   "cell_type": "markdown",
   "metadata": {},
   "source": [
    "<div id=\"ez-toc-container\" class=\"ez-toc-v2_0_11 counter-hierarchy counter-decimal ez-toc-grey\">\n",
    "<div class=\"ez-toc-title-container\">\n",
    "<p class=\"ez-toc-title\">فهرست مطالب</p>\n",
    "<span class=\"ez-toc-title-toggle\"><a class=\"ez-toc-pull-right ez-toc-btn ez-toc-btn-xs ez-toc-btn-default ez-toc-toggle\"><i class=\"ez-toc-glyphicon ez-toc-icon-toggle\"></i></a></span></div>\n",
    "<nav><ul class=\"ez-toc-list ez-toc-list-level-1\"><li class=\"ez-toc-page-1 ez-toc-heading-level-2\"><a class=\"ez-toc-link ez-toc-heading-1\" href=\"#%D8%A7%D8%B3%D8%AA%D9%81%D8%A7%D8%AF%D9%87_%D8%A7%D8%B2_%D8%B9%D8%A8%D8%A7%D8%B1%D8%AA_with_%D8%AF%D8%B1_%D9%BE%D8%A7%DB%8C%D8%AA%D9%88%D9%86_%D9%88_%D8%A7%D8%B4%DB%8C%D8%A7_%D8%A7%D8%AE%D8%AA%D8%B5%D8%A7%D8%B5%DB%8C\" title=\"استفاده از عبارت with در پایتون و اشیا اختصاصی\">استفاده از عبارت with در پایتون و اشیا اختصاصی</a></li><li class=\"ez-toc-page-1 ez-toc-heading-level-2\"><a class=\"ez-toc-link ez-toc-heading-2\" href=\"#%D8%A2%D8%B4%D9%86%D8%A7%DB%8C%DB%8C_%D8%A8%D8%A7_Context_Manager_%D8%AF%D8%B1_%D9%BE%D8%A7%DB%8C%D8%AA%D9%88%D9%86\" title=\"آشنایی با Context Manager در پایتون\">آشنایی با Context Manager در پایتون</a></li><li class=\"ez-toc-page-1 ez-toc-heading-level-2\"><a class=\"ez-toc-link ez-toc-heading-3\" href=\"#%D9%86%D9%88%D8%B4%D8%AA%D9%86_API_%D9%87%D8%A7%DB%8C_%D8%B2%DB%8C%D8%A8%D8%A7_%D8%AA%D9%88%D8%B3%D8%B7_Context_Manager_%D8%AF%D8%B1_%D9%BE%D8%A7%DB%8C%D8%AA%D9%88%D9%86\" title=\"نوشتن API های زیبا توسط Context Manager در پایتون \">نوشتن API های زیبا توسط Context Manager در پایتون </a><ul class=\"ez-toc-list-level-3\"><li class=\"ez-toc-heading-level-3\"><a class=\"ez-toc-link ez-toc-heading-4\" href=\"#%D9%86%DA%A9%D8%A7%D8%AA_%DA%A9%D9%84%DB%8C%D8%AF%DB%8C_%D8%B9%D8%A8%D8%A7%D8%B1%D8%AA_with_%D8%AF%D8%B1_%D9%BE%D8%A7%DB%8C%D8%AA%D9%88%D9%86\" title=\"نکات کلیدی عبارت with در پایتون\">نکات کلیدی عبارت with در پایتون</a></li></ul></li></ul></nav></div>"
   ]
  },
  {
   "cell_type": "markdown",
   "metadata": {},
   "source": [
    "<p><strong>عبارت with در پایتون</strong> معمولا یک عبارت مرموز درنظر گرفته می‌شود. اما زمانی که به پشت صحنه نگاه می‌کنید، می‌بینید که هیچ جادویی در کار نیست. عبارت with در واقع یک ویژگی جذاب و مفید است که به شما کمک می‌کند تا کد پایتونی تمیزتر و خواناتری داشته باشید. </p>"
   ]
  },
  {
   "cell_type": "markdown",
   "metadata": {},
   "source": [
    "<p><strong>ممکن است سوال کنید عبارت with در پایتون چه زمان هایی استفاده می‌شود؟</strong> عبارت with زمانی استفاده می‌شود که بخواهیم با استفاده از الگوی استانداردی، به <strong>مدیریت منابع به صورت بهینه</strong> بپردازیم. </p>"
   ]
  },
  {
   "cell_type": "markdown",
   "metadata": {},
   "source": [
    "<p>برای روشن تر شدن موضوع، به سراغ مثالی از کتابخانه <strong>open</strong> که یکی از <a href=\"https://docs.python.org/3/library/functions.html\">کتابخانه های درونی پایتون</a> است می‌رویم. کتابخانه open یکی از بهترین کتابخانه ها برای توضیح یک مثال در رابطه با عبارت with در پایتون است. در کد زیر، فایل hello.txt توسط عبارت with در پایتون با حالت w که برای write است باز شده است تا بتوانیم مقادیری را درون فایل بنویسیم.</p>"
   ]
  },
  {
   "cell_type": "code",
   "execution_count": 1,
   "metadata": {},
   "outputs": [],
   "source": [
    "with open('hello.txt', 'w') as f: \n",
    "    f.write('hello, world!')"
   ]
  },
  {
   "cell_type": "markdown",
   "metadata": {},
   "source": [
    "به طور کلی توصیه می‌شود فایل ها را با استفاده از عبارت with در پایتون باز کنید. این کار باعث می‌شود زمانی که کار برنامه با فایل مورد نظر به اتمام می‌رسد، ارتباط برنامه با فایل به صورت خودکار بسته شود. در حقیقت زمانی که از عبارت with استفاده می‌کنید، در هسته پایتون کدهای شما به صورت زیر توسط مفسر پایتون ترجمه می‌شود."
   ]
  },
  {
   "cell_type": "code",
   "execution_count": 3,
   "metadata": {},
   "outputs": [],
   "source": [
    "f = open('hello.txt', 'w') \n",
    "try:\n",
    "    f.write('hello, world') \n",
    "finally:\n",
    "    f.close()"
   ]
  },
  {
   "cell_type": "markdown",
   "metadata": {},
   "source": [
    "ممکن است بگویید این کد کمی طولانی است و کاملا درست است. به این نکته توجه کنید که استفاده از عبارت try … finally روشی قابل توجه برای مدیریت خطا است. برای مثال اگر برای این کار، کدی شبیه به زیر بنویسید، دچار مشکلاتی خواهید شد. (قبل از خواندن ادامه مطلب،‌ حدس بزنید چه مشکلی پیش خواهد آمد؟)"
   ]
  },
  {
   "cell_type": "code",
   "execution_count": 4,
   "metadata": {},
   "outputs": [],
   "source": [
    "f = open('hello.txt', 'w') \n",
    "f.write('hello, world') \n",
    "f.close()"
   ]
  },
  {
   "cell_type": "markdown",
   "metadata": {},
   "source": [
    "پیاده سازی فوق تضمین نمی‌کند که هنگام نوشتن در فایل، اگر با خطایی مواجه شدید پس از آن ارتباط با فایل توسط برنامه بسته شود و ممکن است برنامه با خطاهای متفاوتی روبرو شود. به همین دلیل است که در این مواقع از عبارت with در پایتون استفاده می‌کنیم. با استفاده از عبارت with در پایتون، پس از اتمام کار برنامه با منابع سیستم عامل، منابع به صورت خودکار آزاد خواهند شد."
   ]
  },
  {
   "cell_type": "markdown",
   "metadata": {},
   "source": [
    "یک استفاده جالب از عبارت with درپایتون، استفاده از آن هنگام پیاده سازی کلاس درونی threading.lock است"
   ]
  },
  {
   "cell_type": "code",
   "execution_count": 5,
   "metadata": {},
   "outputs": [
    {
     "ename": "IndentationError",
     "evalue": "expected an indented block (<ipython-input-5-01758c36b1a1>, line 7)",
     "output_type": "error",
     "traceback": [
      "\u001b[1;36m  File \u001b[1;32m\"<ipython-input-5-01758c36b1a1>\"\u001b[1;36m, line \u001b[1;32m7\u001b[0m\n\u001b[1;33m    finally:\u001b[0m\n\u001b[1;37m    ^\u001b[0m\n\u001b[1;31mIndentationError\u001b[0m\u001b[1;31m:\u001b[0m expected an indented block\n"
     ]
    }
   ],
   "source": [
    "some_lock = threading.Lock()\n",
    " \n",
    "# Harmful:\n",
    "some_lock.acquire()\n",
    "try:\n",
    "# Do something...\n",
    "finally:\n",
    "    some_lock.release()\n",
    " \n",
    "    # Better:\n",
    "    with some_lock:"
   ]
  },
  {
   "cell_type": "markdown",
   "metadata": {},
   "source": [
    "همانطور که در کد بالا مشاهده می‌کنید، بجای نوشتن try … finally می‌توان از عبارت with استفاده کرد تا کد بتواند از منابع استفاده کند و سپس منابع را آزاد کند. استفاده از عبارت with در پایتون باعث خوانایی راحت کد هنگام استفاده از منابع سیستمی می‌شود. همچنین عبارت with باعث می‌شود تا از به وجود آمدن آسیب‌پذیری امنیتی جلوگیری شود به دلیل اینکه هرزمان که کار برنامه با منابع تمام شد، منابع را به صورت خودکار آزاد می‌کند."
   ]
  },
  {
   "cell_type": "markdown",
   "metadata": {},
   "source": [
    "استفاده از عبارت with در پایتون و اشیا اختصاصی\n",
    "اکنون متوجه شدید که هیچ چیز جادویی در رابطه با تابع open یا کلاس threading.Lock وجود ندارد و حقیقت این است که این اشیا را از طریق عبارت with در پایتون فراخوانی می‌کنیم. شما می‌توانید همین عملکرد را به صورت شخصی‌سازی شده در کلاس ها و توابع خود، با استفاده از Context Manager ها در پایتون پیاده سازی کنید.\n",
    "\n",
    "آشنایی با Context Manager در پایتون\n",
    "Context Manager در پایتون چیست؟ یک پروتکل (مجموعه‌ای از قوانین) است که اشیا برنامه باید از آن پیروی کنند تا اشیا بتوانند از عبارت with پشتیبانی کنند.\n",
    "\n",
    "اگر بخواهیم عمیق‌تر به هسته پایتون بنگریم، برای پیاده سازی این قابلیت باید توابع جادویی __enter__ و __exit__ پیاده سازی شوند تا عملکردی مشابه با context manager ایجاد کنیم. زبان پایتون به صورت خودکار، دو تابع فوق را هنگام مواجهه با چرخه مدیریت منابع سیستم فراخوانی می‌کند. (به توابعی نظیر __enter__ و __exit__ در پایتون توابع جادویی یا Magic Method گفته می‌شود، هرچند من با این اسم موافق نیستم زیرا هیچ چیز جادویی وجود ندارد!)\n",
    "\n",
    "بیایید به این موضوع در عمل نگاه کنیم. در زیر یک پیاده سازی ساده از لایه انتزاعی تابع open پایتون نوشته‌ایم."
   ]
  },
  {
   "cell_type": "markdown",
   "metadata": {},
   "source": [
    "بیایید به این موضوع در عمل نگاه کنیم. در زیر یک پیاده سازی ساده از لایه انتزاعی تابع open پایتون نوشته‌ایم."
   ]
  },
  {
   "cell_type": "code",
   "execution_count": 6,
   "metadata": {},
   "outputs": [],
   "source": [
    "class ManagedFile:\n",
    "    def __init__(self, name):\n",
    "        self.name = name\n",
    " \n",
    "    def __enter__(self):\n",
    "        self.file = open(self.name, 'w')\n",
    "        return self.file\n",
    " \n",
    "    def __exit__(self, exc_type, exc_val, exc_tb):\n",
    "        if self.file:\n",
    "            self.file.close()"
   ]
  },
  {
   "cell_type": "markdown",
   "metadata": {},
   "source": [
    "کلاس ManagedFile از پروتکل context manager پیروی می‌کند و به همین دلیل از عبارت with پشتیبانی می‌کند. مشابه با همان کاری که در مثال تابع open انجام دادیم را می‌توانیم با کلاسی که به تازگی توسعه داده ایم، انجام دهیم.\n",
    "\n"
   ]
  },
  {
   "cell_type": "code",
   "execution_count": 7,
   "metadata": {},
   "outputs": [],
   "source": [
    "with ManagedFile('hello.txt') as f:\n",
    "    f.write('hello, world!')\n",
    "    f.write('bye now') "
   ]
  },
  {
   "cell_type": "markdown",
   "metadata": {},
   "source": [
    "زبان برنامه نویسی پایتون زمانی تابع جادویی __enter__ را فراخوانی می‌کند که برنامه شروع به اجرای کدهای درون قسمت with می‌کند و برنامه نیاز به در اختیار گرفتن منابع دارد. هنگامی که اجرای برنامه در قسمت with به پایان می‌رسد، پایتون تابع جادویی __exit__ را فراخوانی می‌کند تا منابعی که در اختیار گرفته شده بودند، آزاد شوند."
   ]
  },
  {
   "cell_type": "markdown",
   "metadata": {},
   "source": [
    "نوشتن یک کلاس از جنس context manager تنها راه برای پشتیبانی از عبارت with در پایتون نیست. همانطور که مشاهده کردید کلاس ManagedFile تعداد خط کدهای زیادی داشت و در زبان برنامه نویسی پایتون همیشه به دنبال ساده ترین و بهترین راه حل هستیم."
   ]
  },
  {
   "cell_type": "markdown",
   "metadata": {},
   "source": [
    "با استفاده از کتابخانه contextlib در هسته زبان برنامه نویسی پایتون، می‌توان یک لایه انتزاعی بر روی پروتکل context manager ایجاد کرد. این کار ممکن است زندگی را برای شما راحت تر کند!\n",
    "\n",
    "برای مثال، در قطعه کد زیر با استفاده از یک decorator پایتون به اسم contextmanager می‌توان امکان پشتیبانی از عبارت with در پایتون را به وجود آورد. در اینجا مثال قبلی کلاس ManagedFile را به صورت تابعی بازنویسی می‌کنیم تا ببینیم این تکنیک چگونه کار می‌کند."
   ]
  },
  {
   "cell_type": "code",
   "execution_count": 9,
   "metadata": {},
   "outputs": [],
   "source": [
    "from contextlib import contextmanager\n",
    " \n",
    "@contextmanager\n",
    "def managed_file(name): \n",
    "    try:\n",
    "        f = open(name, 'w')\n",
    "        yield f \n",
    "    finally:\n",
    "        f.close()"
   ]
  },
  {
   "cell_type": "code",
   "execution_count": 10,
   "metadata": {},
   "outputs": [],
   "source": [
    "with managed_file('hello.txt') as f:\n",
    "    f.write('hello, world!')\n",
    "    f.write('bye now') "
   ]
  },
  {
   "cell_type": "markdown",
   "metadata": {},
   "source": [
    "در این مثال، تابع managed_file یک generator است که ابتدا منابع را در اختیار می‌گیرد و پس از آن با استفاده از yeild امکان استفاده برای منابع را برای درخواست کننده فعال می‌کند. زمانی که اجرای عبارت with در پایتون به اتمام برسد، generator شروع به تمیزکاری و آزاد کردن منابع می‌کند تا اختیار استفاده از منابع به سیستم عامل برگردد."
   ]
  },
  {
   "cell_type": "markdown",
   "metadata": {},
   "source": [
    "پیاده سازی context manager به دو صورت class-based و generator-based در عمل کاملا مشابه هستند. بهتر است شما با هر روشی که راحت هستید، همان روش را انتخاب کنید."
   ]
  },
  {
   "cell_type": "markdown",
   "metadata": {},
   "source": [
    "رای درک بهتر پیاده سازی context manager در پایتون بهتر است ابتدا درک عمیقی از decorator ها و generator ها در پایتون به دست آورید. یک بار دیگر برای تاکید می‌گویم، این که از کدام روش پیاده سازی استفاده کنید کاملا به اینکه شما و تیمتان با کدام روش راحت تر است، بستگی دارد. همیشه راهی را انتخاب کنید که به خوانایی کدهایتان افزوده شود.\n",
    "\n"
   ]
  },
  {
   "cell_type": "markdown",
   "metadata": {},
   "source": [
    "نوشتن API های زیبا توسط Context Manager در پایتون\n",
    "Context manager ها در پایتون کاملا انعطاف پذیر هستند. اگر از عبارت with در پایتون به صورت خلاقانه ای استفاده کنید می‌توانید API های زیبایی برای ماژول ها و کلاس های خود طراحی کنید.\n",
    "\n",
    "برای مثال، اگر منابعی که می‌خواهیم استفاده کنیم مجموعه از نوشته ها باشند که توسط یک برنامه گزارش گیری تولید شده اند و مجموعه ای از تو رفتگی ها (indent) در آن وجود دارد، چطور این کار را انجام می‌دهیم؟\n",
    "\n",
    "بیشتر توضیح می‌دهم، اگر بخواهید برنامه ای بنویسید که گزارشی به صورت متن تولید می‌کند و این گزارش در هر سطح شامل یک سری تو رفتگی‌ها است، چطور این کار را انجام می‌دهید؟ چطور می‌توانستیم یک لایه انتزاعی پیاده سازی کنیم تا این کار را به راحتی انجام دهیم؟"
   ]
  },
  {
   "cell_type": "code",
   "execution_count": 13,
   "metadata": {},
   "outputs": [],
   "source": [
    "class Indenter:\n",
    "    def __init__(self):\n",
    "        self.level = 0\n",
    " \n",
    "    def __enter__(self):\n",
    "        self.level += 1\n",
    "        return self\n",
    " \n",
    "    def __exit__(self, exc_type, exc_val, exc_tb):\n",
    "        self.level -= 1\n",
    " \n",
    "    def print(self, text):\n",
    "        print(' ' * self.level + text)"
   ]
  },
  {
   "cell_type": "code",
   "execution_count": 14,
   "metadata": {},
   "outputs": [
    {
     "name": "stdout",
     "output_type": "stream",
     "text": [
      " hi!\n",
      "  hello\n",
      "   bonjour\n",
      " hey\n"
     ]
    }
   ],
   "source": [
    "with Indenter() as indent: \n",
    "    indent.print('hi!') \n",
    "    with indent:\n",
    "        indent.print('hello') \n",
    "        with indent:\n",
    "            indent.print('bonjour') \n",
    "    indent.print('hey')"
   ]
  },
  {
   "cell_type": "code",
   "execution_count": null,
   "metadata": {},
   "outputs": [],
   "source": []
  }
 ],
 "metadata": {
  "kernelspec": {
   "display_name": "Python 3",
   "language": "python",
   "name": "python3"
  },
  "language_info": {
   "codemirror_mode": {
    "name": "ipython",
    "version": 3
   },
   "file_extension": ".py",
   "mimetype": "text/x-python",
   "name": "python",
   "nbconvert_exporter": "python",
   "pygments_lexer": "ipython3",
   "version": "3.8.2"
  }
 },
 "nbformat": 4,
 "nbformat_minor": 4
}
