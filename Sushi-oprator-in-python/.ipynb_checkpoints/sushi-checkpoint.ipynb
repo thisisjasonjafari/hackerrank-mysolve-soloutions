{
 "cells": [
  {
   "cell_type": "markdown",
   "metadata": {},
   "source": [
    "<a href=\"https://boby.cloud/python-sushi-operator/\">\n",
    "https://boby.cloud/python-sushi-operator/\n",
    "</a>"
   ]
  },
  {
   "cell_type": "markdown",
   "metadata": {},
   "source": [
    "<style>\n",
    "    -webkit-text-size-adjust: 100%;\n",
    "--swiper-theme-color: #007aff;\n",
    "--swiper-navigation-size: 44px;\n",
    "color: inherit;\n",
    "direction: rtl;\n",
    "box-sizing: border-box;\n",
    "padding: 0;\n",
    "outline: 0;\n",
    "border: 0;\n",
    "vertical-align: baseline;\n",
    "font-weight: inherit;\n",
    "font-style: inherit;\n",
    "font-size: 100%;\n",
    "font-family: inherit;\n",
    "line-height: inherit;\n",
    "text-rendering: optimizeLegibility;\n",
    "-webkit-font-smoothing: antialiased;\n",
    "margin: 0 0 2rem 0;\n",
    "max-width: 100%;\n",
    "margin-bottom: 2rem;\n",
    "word-wrap: break-word;\n",
    "    \n",
    "    \n",
    "    direction: rtl;\n",
    "unicode-bidi: isolate;\n",
    "-webkit-locale: \"fa-IR\";\n",
    "box-sizing: border-box;\n",
    "margin: 0;\n",
    "padding: 0;\n",
    "outline: 0;\n",
    "border: 0;\n",
    "vertical-align: baseline;\n",
    "overflow-x: hidden;\n",
    "color: #333;\n",
    "line-height: 1.7;\n",
    "-webkit-text-size-adjust: 100%;\n",
    "font-family: sc_iransans;\n",
    "font-weight: normal;\n",
    "font-style: normal;\n",
    "font-size: 16px;\n",
    "--swiper-theme-color: #007aff;\n",
    "--swiper-navigation-size: 44px;\n",
    "    \n",
    "    </style>\n",
    "\n",
    "<p>با استفاده از عملگر سوشی در پایتون می‌توان ترفندهای جالبی برای برش لیست‌های پایتونی انجام داد. اما چگونه؟</p>"
   ]
  },
  {
   "cell_type": "markdown",
   "metadata": {},
   "source": [
    "<p>در زبان برنامه نویسی پایتون می‌توان یک لیست را تکه تکه نمود. به این عمل در پایتون <strong>slicing</strong> گفته می‌شود. با استفاده از این روش می‌توان تنها به بخشی از یک لیست دسترسی پیدا کرد. برای مثال می‌توان یک لیست بزرگ را با این روش به چندین لیست کوچکتر تقسیم کرد و هر کدام از آن‌ها را بسته به نیاز مورد استفاده قرار داد. </p>"
   ]
  },
  {
   "cell_type": "markdown",
   "metadata": {},
   "source": [
    "<p>برای برش یک لیست در پایتون از علامت<strong> [] </strong>(براکت)<strong> </strong>استفاده می‌شود که قاعده‌ی کلی آن به صورت <strong>[start:stop:step]</strong> است.</p>"
   ]
  },
  {
   "cell_type": "code",
   "execution_count": 1,
   "metadata": {},
   "outputs": [],
   "source": [
    "lst = [1, 2, 3, 4, 5]"
   ]
  },
  {
   "cell_type": "code",
   "execution_count": 2,
   "metadata": {},
   "outputs": [
    {
     "data": {
      "text/plain": [
       "[1, 2, 3, 4, 5]"
      ]
     },
     "execution_count": 2,
     "metadata": {},
     "output_type": "execute_result"
    }
   ],
   "source": [
    "lst"
   ]
  },
  {
   "cell_type": "code",
   "execution_count": 3,
   "metadata": {},
   "outputs": [
    {
     "data": {
      "text/plain": [
       "[2, 3]"
      ]
     },
     "execution_count": 3,
     "metadata": {},
     "output_type": "execute_result"
    }
   ],
   "source": [
    "lst[1:3:1]"
   ]
  },
  {
   "cell_type": "markdown",
   "metadata": {},
   "source": [
    "در مثال بالا با نوشتن دستور [۱:۳:۱] قصد داریم به اندیس یکم تا اندیس دوم با گام ۱ دسترسی داشته باشیم. توجه داشته باشید که عدد ۳ که در بالا استفاده شده است، شامل اندیس سوم نمی‌شود و به یک عنصر قبل از آن اشاره می‌کند."
   ]
  },
  {
   "cell_type": "markdown",
   "metadata": {},
   "source": [
    "در صورتی که گام را در قاعده‌ی بالا لحاظ نکنید، پایتون به صورت پیش فرض آن را برابر با ۱ قرار می‌دهد."
   ]
  },
  {
   "cell_type": "code",
   "execution_count": 4,
   "metadata": {},
   "outputs": [
    {
     "data": {
      "text/plain": [
       "[2, 3]"
      ]
     },
     "execution_count": 4,
     "metadata": {},
     "output_type": "execute_result"
    }
   ],
   "source": [
    "lst[1:3]"
   ]
  },
  {
   "cell_type": "markdown",
   "metadata": {},
   "source": [
    "\n",
    "می‌توان تنها با استفاده از گام نیز به بخشی از لیست دسترسی داشت.\n",
    "به این ترفند\n",
    "stride\n",
    "\n",
    "(به معنی گام‌های بلند برداشتن) نیز گفته می‌شود.\n",
    "برای مثال با استفاده از دستور زیر یکی در میان به عناصر لیست دسترسی پیدا می‌کنیم\n",
    ".\n"
   ]
  },
  {
   "cell_type": "code",
   "execution_count": 6,
   "metadata": {},
   "outputs": [
    {
     "data": {
      "text/plain": [
       "[1, 3, 5]"
      ]
     },
     "execution_count": 6,
     "metadata": {},
     "output_type": "execute_result"
    }
   ],
   "source": [
    "lst[::2]"
   ]
  },
  {
   "cell_type": "markdown",
   "metadata": {},
   "source": [
    "به عملگر : که در مثال بالا استفاده شده است، عملگر سوشی در پایتون گفته می‌شود."
   ]
  },
  {
   "cell_type": "markdown",
   "metadata": {},
   "source": [
    "یکی دیگر از ترفندهایی که می‌توان روی یک لیست اجرا کرد، برعکس نمودن ترتیب عناصر در لیست به صورت زیر است"
   ]
  },
  {
   "cell_type": "code",
   "execution_count": 8,
   "metadata": {},
   "outputs": [
    {
     "data": {
      "text/plain": [
       "[5, 4, 3, 2, 1]"
      ]
     },
     "execution_count": 8,
     "metadata": {},
     "output_type": "execute_result"
    }
   ],
   "source": [
    "lst[::-1]"
   ]
  },
  {
   "cell_type": "markdown",
   "metadata": {},
   "source": [
    "در مثال بالا با استفاده از علامت :: قصد داریم به کل محتویات لیست دسترسی داشته باشیم و در ادامه گام را برابر با ۱- قرار دادیم تا ترتیب نمایش عناصر از آخر به اول شود. این یک ترفند جالب برای برعکس کردن ترتیب عناصر در لیست است. اما پیشنهاد می‌شود تا به منظور برعکس کردن ترتیب عناصر در یک لیست، از list.reverse یا تابع reversed استفاده کنیم."
   ]
  },
  {
   "cell_type": "markdown",
   "metadata": {},
   "source": [
    "یکی دیگر از ترفندها، حذف تمام مقادیر موجود در لیست است، بدون آنکه متغیری که به عنوان لیست تعریف شده است حذف شود. ممکن است در برنامه‌ای بخواهید تمام محتویات یک لیست را حذف کرده و در ادامه با محتویاتی جدید با آن کار کنید. با استفاده از عملگر سوشی در پایتون می‌توانید این کار را به راحتی انجام دهید."
   ]
  },
  {
   "cell_type": "code",
   "execution_count": 9,
   "metadata": {},
   "outputs": [],
   "source": [
    "lst = [1, 2, 3, 4, 5]"
   ]
  },
  {
   "cell_type": "code",
   "execution_count": 10,
   "metadata": {},
   "outputs": [
    {
     "data": {
      "text/plain": [
       "[1, 2, 3, 4, 5]"
      ]
     },
     "execution_count": 10,
     "metadata": {},
     "output_type": "execute_result"
    }
   ],
   "source": [
    "lst[:]"
   ]
  },
  {
   "cell_type": "code",
   "execution_count": 11,
   "metadata": {},
   "outputs": [],
   "source": [
    "del lst[:]"
   ]
  },
  {
   "cell_type": "code",
   "execution_count": 12,
   "metadata": {},
   "outputs": [
    {
     "data": {
      "text/plain": [
       "[]"
      ]
     },
     "execution_count": 12,
     "metadata": {},
     "output_type": "execute_result"
    }
   ],
   "source": [
    "lst"
   ]
  },
  {
   "cell_type": "markdown",
   "metadata": {},
   "source": [
    "شما همچنین می‌توانید با استفاده از متد lst.clear نیز این کار را انجام دهید. البته توجه داشته باشید که این متد تنها در پایتون ۳ قابل استفاده است."
   ]
  },
  {
   "cell_type": "code",
   "execution_count": 13,
   "metadata": {},
   "outputs": [],
   "source": [
    "lst = [1, 2, 3, 4, 5]"
   ]
  },
  {
   "cell_type": "code",
   "execution_count": 14,
   "metadata": {},
   "outputs": [],
   "source": [
    "orginal_lst = lst"
   ]
  },
  {
   "cell_type": "code",
   "execution_count": 15,
   "metadata": {},
   "outputs": [],
   "source": [
    "lst[:] = [7, 8, 9]"
   ]
  },
  {
   "cell_type": "code",
   "execution_count": 16,
   "metadata": {},
   "outputs": [
    {
     "data": {
      "text/plain": [
       "[7, 8, 9]"
      ]
     },
     "execution_count": 16,
     "metadata": {},
     "output_type": "execute_result"
    }
   ],
   "source": [
    "lst"
   ]
  },
  {
   "cell_type": "code",
   "execution_count": 17,
   "metadata": {},
   "outputs": [
    {
     "data": {
      "text/plain": [
       "[7, 8, 9]"
      ]
     },
     "execution_count": 17,
     "metadata": {},
     "output_type": "execute_result"
    }
   ],
   "source": [
    "orginal_lst"
   ]
  },
  {
   "cell_type": "code",
   "execution_count": 18,
   "metadata": {},
   "outputs": [
    {
     "data": {
      "text/plain": [
       "True"
      ]
     },
     "execution_count": 18,
     "metadata": {},
     "output_type": "execute_result"
    }
   ],
   "source": [
    "orginal_lst is lst"
   ]
  },
  {
   "cell_type": "markdown",
   "metadata": {},
   "source": [
    "در قطعه کد بالا، مقادیر جدیدی در lst با مقادیر قبلی جایگزین شد، اما شی lst حذف نشد. به همین دلیل شی original_lst با شی lst برابر است."
   ]
  },
  {
   "cell_type": "code",
   "execution_count": 19,
   "metadata": {},
   "outputs": [],
   "source": [
    "lst = [1, 2, 3, 4, 5]"
   ]
  },
  {
   "cell_type": "code",
   "execution_count": 20,
   "metadata": {},
   "outputs": [],
   "source": [
    "orginal_lst = lst"
   ]
  },
  {
   "cell_type": "code",
   "execution_count": 21,
   "metadata": {},
   "outputs": [],
   "source": [
    "orginal_lst[:] = [7, 8, 9]"
   ]
  },
  {
   "cell_type": "code",
   "execution_count": 22,
   "metadata": {},
   "outputs": [
    {
     "data": {
      "text/plain": [
       "[7, 8, 9]"
      ]
     },
     "execution_count": 22,
     "metadata": {},
     "output_type": "execute_result"
    }
   ],
   "source": [
    "orginal_lst"
   ]
  },
  {
   "cell_type": "code",
   "execution_count": 23,
   "metadata": {},
   "outputs": [
    {
     "data": {
      "text/plain": [
       "[7, 8, 9]"
      ]
     },
     "execution_count": 23,
     "metadata": {},
     "output_type": "execute_result"
    }
   ],
   "source": [
    "lst"
   ]
  },
  {
   "cell_type": "code",
   "execution_count": 24,
   "metadata": {},
   "outputs": [
    {
     "data": {
      "text/plain": [
       "True"
      ]
     },
     "execution_count": 24,
     "metadata": {},
     "output_type": "execute_result"
    }
   ],
   "source": [
    "orginal_lst is lst"
   ]
  },
  {
   "cell_type": "markdown",
   "metadata": {},
   "source": [
    "<p>در قطعه کد بالا، مقادیر جدیدی در lst با مقادیر قبلی جایگزین شد، اما شی lst حذف نشد. به همین دلیل شی original_lst با شی lst برابر است.\n",
    "</p>"
   ]
  },
  {
   "cell_type": "markdown",
   "metadata": {},
   "source": [
    "<p>در قطعه کد بالا، مقادیر جدیدی در lst با مقادیر قبلی جایگزین شد، اما شی lst حذف نشد. به همین دلیل شی original_lst با شی lst برابر است.</p>\n",
    "\n",
    "<p> یکی دیگر از کاربردهای عملگر سوشی در <a href=\"https://boby.cloud/category/python/\" target=\"_blank\" rel=\"noreferrer noopener\" aria-label=\"پایتون (opens in a new tab)\">پایتون</a> این است که با استفاده از آن می‌توان یک کپی از تمام محتویات یک لیست ایجاد نمود. به این عمل در پایتون <strong>shallow copy</strong> گفته می‌شود. به مثال زیر توجه کنید.</p>"
   ]
  },
  {
   "cell_type": "code",
   "execution_count": 25,
   "metadata": {},
   "outputs": [],
   "source": [
    "copied_lst = lst[:]"
   ]
  },
  {
   "cell_type": "code",
   "execution_count": 26,
   "metadata": {},
   "outputs": [
    {
     "data": {
      "text/plain": [
       "[7, 8, 9]"
      ]
     },
     "execution_count": 26,
     "metadata": {},
     "output_type": "execute_result"
    }
   ],
   "source": [
    "copied_lst"
   ]
  },
  {
   "cell_type": "code",
   "execution_count": 27,
   "metadata": {},
   "outputs": [
    {
     "data": {
      "text/plain": [
       "False"
      ]
     },
     "execution_count": 27,
     "metadata": {},
     "output_type": "execute_result"
    }
   ],
   "source": [
    "copied_lst is lst"
   ]
  },
  {
   "cell_type": "markdown",
   "metadata": {},
   "source": [
    "<p>در واقع هنگامی که ما از <strong>shallow copy</strong> استفاده می‌کنیم، تنها ساختار عناصر موجود (نه خودِ عناصر) در لیست کپی شده و در شی جدیدی قرار می‌گیرد؛ در این حالت هر دو کپی دارای نمونه‌های مشترکی از عناصر هستند. در قطعه کد بالا، <strong>تنها محتویات موجود در لیست</strong> را در یک شی جدید جدید کپی نمودیم. به همین دلیل است که ماهیت دو متغیر lst و copied_lst با یکدیگر برابر نیستند.</p>\n",
    "\n",
    "\n",
    "<p>در صورتی که قصد دارید تا دقیقا خودِ عناصر موجود در یک شی را کپی نمایید، باید از<a href=\"https://docs.python.org/3/library/copy.html\"> </a><a href=\"https://docs.python.org/3/library/copy.html\" target=\"_blank\" rel=\"noreferrer noopener\" aria-label=\"ماژول copy در پایتون (opens in a new tab)\">ماژول <strong>copy</strong> در پایتون</a> استفاده کنید. به این عمل اصطلاحا <strong>deep copy</strong> گفته می‌شود. تابع <strong>deepcopy</strong> موجود در این ماژول به شما این قابلیت را می‌دهد تا یک کپی کامل از تمام ویژگی‌های موجود در یک شیء ایجاد کنید.</p>\n"
   ]
  },
  {
   "cell_type": "markdown",
   "metadata": {},
   "source": [
    "نکات کلیدی عملگر سوشی در پایتون:\n",
    "    \n",
    "    \n",
    "به طور کلی از عملگر سوشی (:) علاوه بر انتخاب زیر مجموعه‌ای از یک لیست، می‌توان به عنوان پاک سازی، برعکس نمودن ترتیب عناصر و کپی نمودن محتویات یک لیست نیز استفاده نمود.\n",
    "توجه داشته باشید که استفاده بیش از حد از این ترفند ممکن است خوانایی کد شما را دچار مشکل کرده و نگهداری برنامه‌ی نوشته شده را برای سایر برنامه نویسان دشوار کند."
   ]
  },
  {
   "cell_type": "code",
   "execution_count": 35,
   "metadata": {},
   "outputs": [
    {
     "name": "stdout",
     "output_type": "stream",
     "text": [
      "New List: [1, 2, 3]\n",
      "Old List: [1, 2, 3]\n"
     ]
    }
   ],
   "source": [
    "old_list = [1, 2, 3]\n",
    "new_list = old_list\n",
    "\n",
    " \n",
    "\n",
    "print('New List:', new_list )\n",
    "print('Old List:', old_list )"
   ]
  },
  {
   "cell_type": "code",
   "execution_count": 36,
   "metadata": {},
   "outputs": [
    {
     "data": {
      "text/plain": [
       "True"
      ]
     },
     "execution_count": 36,
     "metadata": {},
     "output_type": "execute_result"
    }
   ],
   "source": [
    "new_list is old_list"
   ]
  },
  {
   "cell_type": "code",
   "execution_count": 37,
   "metadata": {},
   "outputs": [
    {
     "name": "stdout",
     "output_type": "stream",
     "text": [
      "Old list: [[1, 2, 3], [4, 5, 6], [7, 8, 9]]\n",
      "New list: [[1, 2, 3], [4, 5, 6], [7, 8, 9]]\n"
     ]
    }
   ],
   "source": [
    "import copy\n",
    "\n",
    "old_list = [[1, 2, 3], [4, 5, 6], [7, 8, 9]]\n",
    "new_list = copy.copy(old_list)\n",
    "\n",
    "print(\"Old list:\", old_list)\n",
    "print(\"New list:\", new_list)"
   ]
  },
  {
   "cell_type": "code",
   "execution_count": 38,
   "metadata": {},
   "outputs": [
    {
     "data": {
      "text/plain": [
       "False"
      ]
     },
     "execution_count": 38,
     "metadata": {},
     "output_type": "execute_result"
    }
   ],
   "source": [
    "new_list is old_list"
   ]
  },
  {
   "cell_type": "code",
   "execution_count": null,
   "metadata": {},
   "outputs": [],
   "source": []
  }
 ],
 "metadata": {
  "kernelspec": {
   "display_name": "Python 3",
   "language": "python",
   "name": "python3"
  },
  "language_info": {
   "codemirror_mode": {
    "name": "ipython",
    "version": 3
   },
   "file_extension": ".py",
   "mimetype": "text/x-python",
   "name": "python",
   "nbconvert_exporter": "python",
   "pygments_lexer": "ipython3",
   "version": "3.8.2"
  }
 },
 "nbformat": 4,
 "nbformat_minor": 4
}
